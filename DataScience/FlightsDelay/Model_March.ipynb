{
 "cells": [
  {
   "cell_type": "code",
   "execution_count": 1,
   "metadata": {},
   "outputs": [],
   "source": [
    "import datetime, scipy \n",
    "from sklearn.linear_model import Ridge\n",
    "from sklearn.linear_model import Lasso\n",
    "from sklearn.metrics import r2_score\n",
    "import pandas as pd\n",
    "import numpy as np\n",
    "import seaborn as sns\n",
    "import matplotlib.pyplot as plt\n",
    "from sklearn import metrics, linear_model\n",
    "from sklearn.preprocessing import PolynomialFeatures\n",
    "from sklearn.preprocessing import LabelEncoder, OneHotEncoder\n",
    "from sklearn.model_selection import train_test_split\n",
    "plt.rcParams[\"patch.force_edgecolor\"] = True\n",
    "plt.style.use('fivethirtyeight')\n",
    "%matplotlib inline"
   ]
  },
  {
   "cell_type": "code",
   "execution_count": 2,
   "metadata": {},
   "outputs": [],
   "source": [
    "#Reading the dataset \n",
    "df = pd.read_csv('flights_mar.csv')"
   ]
  },
  {
   "cell_type": "code",
   "execution_count": 3,
   "metadata": {},
   "outputs": [],
   "source": [
    "#Converting the year month and day columns to datetime objects\n",
    "df['DATE'] = pd.to_datetime(df[['YEAR','MONTH', 'DAY']])"
   ]
  },
  {
   "cell_type": "code",
   "execution_count": 4,
   "metadata": {},
   "outputs": [],
   "source": [
    "#Function that formats the time string and convert it to datetime.time\n",
    "def format_heure(chaine):\n",
    "    #Keeping the nan values the same\n",
    "    if pd.isnull(chaine):\n",
    "        return np.nan\n",
    "    else:\n",
    "        #checking if the values lie within the time range\n",
    "        if chaine == 2400: chaine = 0\n",
    "        chaine = \"{0:04d}\".format(int(chaine))\n",
    "        heure = datetime.time(int(chaine[0:2]), int(chaine[2:4]))\n",
    "        return heure\n",
    "# Function that combines a date and time to produce a datetime.datetime\n",
    "def combine_date_heure(x):\n",
    "    if pd.isnull(x[0]) or pd.isnull(x[1]):\n",
    "        return np.nan\n",
    "    else:\n",
    "        return datetime.datetime.combine(x[0],x[1])\n",
    "#Function that combinest the date value and the time value into a single column to create a new datetime format\n",
    "def create_flight_time(df, col):    \n",
    "    liste = []\n",
    "    for index, cols in df[['DATE', col]].iterrows():    \n",
    "        if pd.isnull(cols[1]):\n",
    "            liste.append(np.nan)\n",
    "        elif float(cols[1]) == 2400:\n",
    "            cols[0] += datetime.timedelta(days=1)\n",
    "            cols[1] = datetime.time(0,0)\n",
    "            liste.append(combine_date_heure(cols))\n",
    "        else:\n",
    "            cols[1] = format_heure(cols[1])\n",
    "            liste.append(combine_date_heure(cols))\n",
    "    return pd.Series(liste)"
   ]
  },
  {
   "cell_type": "code",
   "execution_count": 5,
   "metadata": {},
   "outputs": [
    {
     "data": {
      "text/html": [
       "<div>\n",
       "<style scoped>\n",
       "    .dataframe tbody tr th:only-of-type {\n",
       "        vertical-align: middle;\n",
       "    }\n",
       "\n",
       "    .dataframe tbody tr th {\n",
       "        vertical-align: top;\n",
       "    }\n",
       "\n",
       "    .dataframe thead th {\n",
       "        text-align: right;\n",
       "    }\n",
       "</style>\n",
       "<table border=\"1\" class=\"dataframe\">\n",
       "  <thead>\n",
       "    <tr style=\"text-align: right;\">\n",
       "      <th></th>\n",
       "      <th>SCHEDULED_DEPARTURE</th>\n",
       "      <th>SCHEDULED_ARRIVAL</th>\n",
       "      <th>DEPARTURE_TIME</th>\n",
       "      <th>ARRIVAL_TIME</th>\n",
       "      <th>DEPARTURE_DELAY</th>\n",
       "      <th>ARRIVAL_DELAY</th>\n",
       "    </tr>\n",
       "  </thead>\n",
       "  <tbody>\n",
       "    <tr>\n",
       "      <td>0</td>\n",
       "      <td>2015-03-01 00:05:00</td>\n",
       "      <td>04:53:00</td>\n",
       "      <td>NaN</td>\n",
       "      <td>NaN</td>\n",
       "      <td>NaN</td>\n",
       "      <td>NaN</td>\n",
       "    </tr>\n",
       "    <tr>\n",
       "      <td>1</td>\n",
       "      <td>2015-03-01 00:05:00</td>\n",
       "      <td>04:27:00</td>\n",
       "      <td>00:32:00</td>\n",
       "      <td>04:34:00</td>\n",
       "      <td>27.0</td>\n",
       "      <td>7.0</td>\n",
       "    </tr>\n",
       "    <tr>\n",
       "      <td>2</td>\n",
       "      <td>2015-03-01 00:15:00</td>\n",
       "      <td>05:11:00</td>\n",
       "      <td>00:17:00</td>\n",
       "      <td>04:41:00</td>\n",
       "      <td>2.0</td>\n",
       "      <td>-30.0</td>\n",
       "    </tr>\n",
       "    <tr>\n",
       "      <td>3</td>\n",
       "      <td>2015-03-01 00:15:00</td>\n",
       "      <td>06:00:00</td>\n",
       "      <td>00:14:00</td>\n",
       "      <td>05:37:00</td>\n",
       "      <td>-1.0</td>\n",
       "      <td>-23.0</td>\n",
       "    </tr>\n",
       "    <tr>\n",
       "      <td>4</td>\n",
       "      <td>2015-03-01 00:20:00</td>\n",
       "      <td>08:04:00</td>\n",
       "      <td>00:16:00</td>\n",
       "      <td>07:50:00</td>\n",
       "      <td>-4.0</td>\n",
       "      <td>-14.0</td>\n",
       "    </tr>\n",
       "    <tr>\n",
       "      <td>5</td>\n",
       "      <td>2015-03-01 00:20:00</td>\n",
       "      <td>05:17:00</td>\n",
       "      <td>01:46:00</td>\n",
       "      <td>06:15:00</td>\n",
       "      <td>86.0</td>\n",
       "      <td>58.0</td>\n",
       "    </tr>\n",
       "  </tbody>\n",
       "</table>\n",
       "</div>"
      ],
      "text/plain": [
       "  SCHEDULED_DEPARTURE SCHEDULED_ARRIVAL DEPARTURE_TIME ARRIVAL_TIME  \\\n",
       "0 2015-03-01 00:05:00          04:53:00            NaN          NaN   \n",
       "1 2015-03-01 00:05:00          04:27:00       00:32:00     04:34:00   \n",
       "2 2015-03-01 00:15:00          05:11:00       00:17:00     04:41:00   \n",
       "3 2015-03-01 00:15:00          06:00:00       00:14:00     05:37:00   \n",
       "4 2015-03-01 00:20:00          08:04:00       00:16:00     07:50:00   \n",
       "5 2015-03-01 00:20:00          05:17:00       01:46:00     06:15:00   \n",
       "\n",
       "   DEPARTURE_DELAY  ARRIVAL_DELAY  \n",
       "0              NaN            NaN  \n",
       "1             27.0            7.0  \n",
       "2              2.0          -30.0  \n",
       "3             -1.0          -23.0  \n",
       "4             -4.0          -14.0  \n",
       "5             86.0           58.0  "
      ]
     },
     "execution_count": 5,
     "metadata": {},
     "output_type": "execute_result"
    }
   ],
   "source": [
    "#Applying previously defined functions to format the values in the columns\n",
    "df['SCHEDULED_DEPARTURE'] = create_flight_time(df, 'SCHEDULED_DEPARTURE')\n",
    "df['DEPARTURE_TIME'] = df['DEPARTURE_TIME'].apply(format_heure)\n",
    "df['SCHEDULED_ARRIVAL'] = df['SCHEDULED_ARRIVAL'].apply(format_heure)\n",
    "df['ARRIVAL_TIME'] = df['ARRIVAL_TIME'].apply(format_heure)\n",
    "#__________________________________________________________________________\n",
    "df.loc[:5, ['SCHEDULED_DEPARTURE', 'SCHEDULED_ARRIVAL', 'DEPARTURE_TIME',\n",
    "             'ARRIVAL_TIME', 'DEPARTURE_DELAY', 'ARRIVAL_DELAY']]"
   ]
  },
  {
   "cell_type": "code",
   "execution_count": 6,
   "metadata": {},
   "outputs": [
    {
     "data": {
      "text/html": [
       "<div>\n",
       "<style scoped>\n",
       "    .dataframe tbody tr th:only-of-type {\n",
       "        vertical-align: middle;\n",
       "    }\n",
       "\n",
       "    .dataframe tbody tr th {\n",
       "        vertical-align: top;\n",
       "    }\n",
       "\n",
       "    .dataframe thead th {\n",
       "        text-align: right;\n",
       "    }\n",
       "</style>\n",
       "<table border=\"1\" class=\"dataframe\">\n",
       "  <thead>\n",
       "    <tr style=\"text-align: right;\">\n",
       "      <th></th>\n",
       "      <th>AIRLINE</th>\n",
       "      <th>ORIGIN_AIRPORT</th>\n",
       "      <th>DESTINATION_AIRPORT</th>\n",
       "      <th>SCHEDULED_DEPARTURE</th>\n",
       "      <th>DEPARTURE_TIME</th>\n",
       "      <th>DEPARTURE_DELAY</th>\n",
       "      <th>SCHEDULED_ARRIVAL</th>\n",
       "      <th>ARRIVAL_TIME</th>\n",
       "      <th>ARRIVAL_DELAY</th>\n",
       "      <th>SCHEDULED_TIME</th>\n",
       "      <th>ELAPSED_TIME</th>\n",
       "    </tr>\n",
       "  </thead>\n",
       "  <tbody>\n",
       "    <tr>\n",
       "      <td>0</td>\n",
       "      <td>AA</td>\n",
       "      <td>LAX</td>\n",
       "      <td>DFW</td>\n",
       "      <td>2015-03-01 00:05:00</td>\n",
       "      <td>NaN</td>\n",
       "      <td>NaN</td>\n",
       "      <td>04:53:00</td>\n",
       "      <td>NaN</td>\n",
       "      <td>NaN</td>\n",
       "      <td>168.0</td>\n",
       "      <td>NaN</td>\n",
       "    </tr>\n",
       "    <tr>\n",
       "      <td>1</td>\n",
       "      <td>AS</td>\n",
       "      <td>ANC</td>\n",
       "      <td>SEA</td>\n",
       "      <td>2015-03-01 00:05:00</td>\n",
       "      <td>00:32:00</td>\n",
       "      <td>27.0</td>\n",
       "      <td>04:27:00</td>\n",
       "      <td>04:34:00</td>\n",
       "      <td>7.0</td>\n",
       "      <td>202.0</td>\n",
       "      <td>182.0</td>\n",
       "    </tr>\n",
       "    <tr>\n",
       "      <td>2</td>\n",
       "      <td>DL</td>\n",
       "      <td>DEN</td>\n",
       "      <td>ATL</td>\n",
       "      <td>2015-03-01 00:15:00</td>\n",
       "      <td>00:17:00</td>\n",
       "      <td>2.0</td>\n",
       "      <td>05:11:00</td>\n",
       "      <td>04:41:00</td>\n",
       "      <td>-30.0</td>\n",
       "      <td>176.0</td>\n",
       "      <td>144.0</td>\n",
       "    </tr>\n",
       "    <tr>\n",
       "      <td>3</td>\n",
       "      <td>US</td>\n",
       "      <td>PHX</td>\n",
       "      <td>CLT</td>\n",
       "      <td>2015-03-01 00:15:00</td>\n",
       "      <td>00:14:00</td>\n",
       "      <td>-1.0</td>\n",
       "      <td>06:00:00</td>\n",
       "      <td>05:37:00</td>\n",
       "      <td>-23.0</td>\n",
       "      <td>225.0</td>\n",
       "      <td>203.0</td>\n",
       "    </tr>\n",
       "    <tr>\n",
       "      <td>4</td>\n",
       "      <td>AA</td>\n",
       "      <td>LAX</td>\n",
       "      <td>MIA</td>\n",
       "      <td>2015-03-01 00:20:00</td>\n",
       "      <td>00:16:00</td>\n",
       "      <td>-4.0</td>\n",
       "      <td>08:04:00</td>\n",
       "      <td>07:50:00</td>\n",
       "      <td>-14.0</td>\n",
       "      <td>284.0</td>\n",
       "      <td>274.0</td>\n",
       "    </tr>\n",
       "  </tbody>\n",
       "</table>\n",
       "</div>"
      ],
      "text/plain": [
       "  AIRLINE ORIGIN_AIRPORT DESTINATION_AIRPORT SCHEDULED_DEPARTURE  \\\n",
       "0      AA            LAX                 DFW 2015-03-01 00:05:00   \n",
       "1      AS            ANC                 SEA 2015-03-01 00:05:00   \n",
       "2      DL            DEN                 ATL 2015-03-01 00:15:00   \n",
       "3      US            PHX                 CLT 2015-03-01 00:15:00   \n",
       "4      AA            LAX                 MIA 2015-03-01 00:20:00   \n",
       "\n",
       "  DEPARTURE_TIME  DEPARTURE_DELAY SCHEDULED_ARRIVAL ARRIVAL_TIME  \\\n",
       "0            NaN              NaN          04:53:00          NaN   \n",
       "1       00:32:00             27.0          04:27:00     04:34:00   \n",
       "2       00:17:00              2.0          05:11:00     04:41:00   \n",
       "3       00:14:00             -1.0          06:00:00     05:37:00   \n",
       "4       00:16:00             -4.0          08:04:00     07:50:00   \n",
       "\n",
       "   ARRIVAL_DELAY  SCHEDULED_TIME  ELAPSED_TIME  \n",
       "0            NaN           168.0           NaN  \n",
       "1            7.0           202.0         182.0  \n",
       "2          -30.0           176.0         144.0  \n",
       "3          -23.0           225.0         203.0  \n",
       "4          -14.0           284.0         274.0  "
      ]
     },
     "execution_count": 6,
     "metadata": {},
     "output_type": "execute_result"
    }
   ],
   "source": [
    "#removing the variables that we won't use\n",
    "variables_to_remove = ['TAXI_OUT', 'TAXI_IN', 'WHEELS_ON', 'WHEELS_OFF', 'YEAR', \n",
    "                       'MONTH','DAY','DAY_OF_WEEK','DATE', 'AIR_SYSTEM_DELAY',\n",
    "                       'SECURITY_DELAY', 'AIRLINE_DELAY', 'LATE_AIRCRAFT_DELAY',\n",
    "                       'WEATHER_DELAY', 'DIVERTED', 'CANCELLED', 'CANCELLATION_REASON',\n",
    "                       'FLIGHT_NUMBER', 'TAIL_NUMBER', 'AIR_TIME']\n",
    "df.drop(variables_to_remove, axis = 1, inplace = True)\n",
    "df = df[['AIRLINE', 'ORIGIN_AIRPORT', 'DESTINATION_AIRPORT',\n",
    "        'SCHEDULED_DEPARTURE', 'DEPARTURE_TIME', 'DEPARTURE_DELAY',\n",
    "        'SCHEDULED_ARRIVAL', 'ARRIVAL_TIME', 'ARRIVAL_DELAY',\n",
    "        'SCHEDULED_TIME', 'ELAPSED_TIME']]\n",
    "df[:5]"
   ]
  },
  {
   "cell_type": "code",
   "execution_count": 7,
   "metadata": {},
   "outputs": [],
   "source": [
    "#dropping the rows contiaining Nan values\n",
    "df.dropna(inplace = True)"
   ]
  },
  {
   "cell_type": "code",
   "execution_count": 8,
   "metadata": {},
   "outputs": [],
   "source": [
    "#A function to get the statistics of a group of values\n",
    "def get_stats(group):\n",
    "    return {'min': group.min(), 'max': group.max(),\n",
    "            'count': group.count(), 'mean': group.mean()}"
   ]
  },
  {
   "cell_type": "code",
   "execution_count": 9,
   "metadata": {},
   "outputs": [],
   "source": [
    "#Taking the first three weeks of the dataset as the training part of the dataset and the last week for testing the model\n",
    "df_train = df[df['SCHEDULED_DEPARTURE'].apply(lambda x:x.date()) < datetime.date(2015, 3, 23)]\n",
    "df_test  = df[df['SCHEDULED_DEPARTURE'].apply(lambda x:x.date()) > datetime.date(2015, 3, 23)]"
   ]
  },
  {
   "cell_type": "code",
   "execution_count": 10,
   "metadata": {},
   "outputs": [],
   "source": [
    "def get_flight_delays(df, carrier, id_airport, extrem_values = False):\n",
    "    #Subsetting the dataset for a single airport and a single origin airport\n",
    "    df2 = df[(df['AIRLINE'] == carrier) & (df['ORIGIN_AIRPORT'] == id_airport)]\n",
    "    # remove extreme delay values which don't help our model in prediction\n",
    "    if extrem_values:\n",
    "        df2['DEPARTURE_DELAY'] = df2['DEPARTURE_DELAY'].apply(lambda x:x if x < 60 else np.nan)\n",
    "        df2.dropna(how = 'any')\n",
    "    # Conversion: date + heure -> heure\n",
    "    df2.sort_values('SCHEDULED_DEPARTURE', inplace = True)\n",
    "    df2['heure_depart'] =  df2['SCHEDULED_DEPARTURE'].apply(lambda x:x.time())\n",
    "    #Regrouping the vlues as per the the departure time\n",
    "    test2 = df2['DEPARTURE_DELAY'].groupby(df2['heure_depart']).apply(get_stats).unstack()\n",
    "    test2.reset_index(inplace=True)\n",
    "    #converting the departure time into seconds\n",
    "    fct = lambda x:x.hour*3600+x.minute*60+x.second\n",
    "    test2.reset_index(inplace=True)\n",
    "    test2['heure_depart_min'] = test2['heure_depart'].apply(fct)\n",
    "    return test2"
   ]
  },
  {
   "cell_type": "code",
   "execution_count": 11,
   "metadata": {},
   "outputs": [],
   "source": [
    "#Class defined to perform polynomial regression\n",
    "class fit_polynome:\n",
    "\n",
    "    def __init__(self, data):\n",
    "        self.data = data[['mean', 'heure_depart_min']].dropna(how='any', axis = 0)\n",
    "\n",
    "    def split(self, method):        \n",
    "        self.method = method        \n",
    "        self.X = np.array(self.data['heure_depart_min'])\n",
    "        self.Y = np.array(self.data['mean'])\n",
    "        self.X = self.X.reshape(len(self.X),1)\n",
    "        self.Y = self.Y.reshape(len(self.Y),1)\n",
    "\n",
    "        if method == 'all':\n",
    "            self.X_train = self.X\n",
    "            self.Y_train = self.Y\n",
    "            self.X_test  = self.X\n",
    "            self.Y_test  = self.Y                        \n",
    "        elif method == 'split':            \n",
    "            self.X_train, self.X_test, self.Y_train, self.Y_test = \\\n",
    "                train_test_split(self.X, self.Y, test_size=0.3)\n",
    "    #Function to train the model\n",
    "    def train(self, pol_order):\n",
    "        #Setting the order of the regression\n",
    "        self.poly = PolynomialFeatures(degree = pol_order)\n",
    "        self.regr = linear_model.LinearRegression()\n",
    "        self.X_ = self.poly.fit_transform(self.X_train)\n",
    "        self.regr.fit(self.X_, self.Y_train)\n",
    "    #Function used to predict values from the testing dataset\n",
    "    def predict(self, X):\n",
    "        self.X_ = self.poly.fit_transform(X)\n",
    "        self.result = self.regr.predict(self.X_)\n",
    "   #Function that calculates the mean squared error \n",
    "    def calc_score(self):        \n",
    "        X_ = self.poly.fit_transform(self.X_test)\n",
    "        result = self.regr.predict(X_)\n",
    "        self.score = metrics.mean_squared_error(result, self.Y_test)"
   ]
  },
  {
   "cell_type": "code",
   "execution_count": 12,
   "metadata": {},
   "outputs": [],
   "source": [
    "#Taking our airlines as american airlines\n",
    "carrier = 'AA'\n",
    "#Taking Philadelphia International Airport as our origin airport\n",
    "id_airport = 'PHL'"
   ]
  },
  {
   "cell_type": "code",
   "execution_count": 13,
   "metadata": {},
   "outputs": [
    {
     "name": "stderr",
     "output_type": "stream",
     "text": [
      "D:\\Anaconda\\lib\\site-packages\\ipykernel_launcher.py:3: SettingWithCopyWarning: \n",
      "A value is trying to be set on a copy of a slice from a DataFrame.\n",
      "Try using .loc[row_indexer,col_indexer] = value instead\n",
      "\n",
      "See the caveats in the documentation: http://pandas.pydata.org/pandas-docs/stable/user_guide/indexing.html#returning-a-view-versus-a-copy\n",
      "  This is separate from the ipykernel package so we can avoid doing imports until\n",
      "D:\\Anaconda\\lib\\site-packages\\ipykernel_launcher.py:4: SettingWithCopyWarning: \n",
      "A value is trying to be set on a copy of a slice from a DataFrame.\n",
      "Try using .loc[row_indexer,col_indexer] = value instead\n",
      "\n",
      "See the caveats in the documentation: http://pandas.pydata.org/pandas-docs/stable/user_guide/indexing.html#returning-a-view-versus-a-copy\n",
      "  after removing the cwd from sys.path.\n",
      "D:\\Anaconda\\lib\\site-packages\\ipykernel_launcher.py:9: SettingWithCopyWarning: \n",
      "A value is trying to be set on a copy of a slice from a DataFrame\n",
      "\n",
      "See the caveats in the documentation: http://pandas.pydata.org/pandas-docs/stable/user_guide/indexing.html#returning-a-view-versus-a-copy\n",
      "  if __name__ == '__main__':\n",
      "D:\\Anaconda\\lib\\site-packages\\ipykernel_launcher.py:10: SettingWithCopyWarning: \n",
      "A value is trying to be set on a copy of a slice from a DataFrame.\n",
      "Try using .loc[row_indexer,col_indexer] = value instead\n",
      "\n",
      "See the caveats in the documentation: http://pandas.pydata.org/pandas-docs/stable/user_guide/indexing.html#returning-a-view-versus-a-copy\n",
      "  # Remove the CWD from sys.path while we load stuff.\n"
     ]
    }
   ],
   "source": [
    "#Subsetting the dataset to only contain one airline and one airport\n",
    "df2 = df[(df['AIRLINE'] == carrier) & (df['ORIGIN_AIRPORT'] == id_airport)]\n",
    "df2['heure_depart'] =  df2['SCHEDULED_DEPARTURE'].apply(lambda x:x.time())\n",
    "df2['heure_depart'] = df2['heure_depart'].apply(lambda x:x.hour*3600+x.minute*60+x.second)\n",
    "test2 = get_flight_delays(df, carrier, id_airport, False)"
   ]
  },
  {
   "cell_type": "code",
   "execution_count": 14,
   "metadata": {},
   "outputs": [],
   "source": [
    "fit = fit_polynome(test2)"
   ]
  },
  {
   "cell_type": "code",
   "execution_count": 15,
   "metadata": {},
   "outputs": [],
   "source": [
    "#Creating the dataset for one airline and all airports\n",
    "def get_merged_delays(df, carrier):\n",
    "    liste_airports = df[df['AIRLINE'] == carrier]['ORIGIN_AIRPORT'].unique()\n",
    "    i = 0\n",
    "    liste_columns = ['AIRPORT_ID', 'heure_depart_min', 'mean']\n",
    "    for id_airport in liste_airports:\n",
    "        test2 = get_flight_delays(df, carrier, id_airport, True)\n",
    "        test2.loc[:, 'AIRPORT_ID'] = id_airport\n",
    "        test2 = test2[liste_columns]\n",
    "        test2.dropna(how = 'any', inplace = True)\n",
    "        if i == 0:\n",
    "            merged_df = test2.copy()\n",
    "        else:\n",
    "            merged_df = pd.concat([merged_df, test2], ignore_index = True)\n",
    "        i += 1    \n",
    "    return merged_df"
   ]
  },
  {
   "cell_type": "code",
   "execution_count": 16,
   "metadata": {},
   "outputs": [
    {
     "name": "stderr",
     "output_type": "stream",
     "text": [
      "D:\\Anaconda\\lib\\site-packages\\ipykernel_launcher.py:6: SettingWithCopyWarning: \n",
      "A value is trying to be set on a copy of a slice from a DataFrame.\n",
      "Try using .loc[row_indexer,col_indexer] = value instead\n",
      "\n",
      "See the caveats in the documentation: http://pandas.pydata.org/pandas-docs/stable/user_guide/indexing.html#returning-a-view-versus-a-copy\n",
      "  \n",
      "D:\\Anaconda\\lib\\site-packages\\ipykernel_launcher.py:9: SettingWithCopyWarning: \n",
      "A value is trying to be set on a copy of a slice from a DataFrame\n",
      "\n",
      "See the caveats in the documentation: http://pandas.pydata.org/pandas-docs/stable/user_guide/indexing.html#returning-a-view-versus-a-copy\n",
      "  if __name__ == '__main__':\n",
      "D:\\Anaconda\\lib\\site-packages\\ipykernel_launcher.py:10: SettingWithCopyWarning: \n",
      "A value is trying to be set on a copy of a slice from a DataFrame.\n",
      "Try using .loc[row_indexer,col_indexer] = value instead\n",
      "\n",
      "See the caveats in the documentation: http://pandas.pydata.org/pandas-docs/stable/user_guide/indexing.html#returning-a-view-versus-a-copy\n",
      "  # Remove the CWD from sys.path while we load stuff.\n"
     ]
    },
    {
     "data": {
      "text/plain": [
       "(2307, 3)"
      ]
     },
     "execution_count": 16,
     "metadata": {},
     "output_type": "execute_result"
    }
   ],
   "source": [
    "merged_df = get_merged_delays(df, carrier)\n",
    "merged_df.shape"
   ]
  },
  {
   "cell_type": "code",
   "execution_count": 17,
   "metadata": {},
   "outputs": [
    {
     "data": {
      "text/plain": [
       "[(0, 'ABQ'), (1, 'ATL'), (2, 'AUS'), (3, 'BDL'), (4, 'BHM')]"
      ]
     },
     "execution_count": 17,
     "metadata": {},
     "output_type": "execute_result"
    }
   ],
   "source": [
    "#Using label encoder to encode the aiport values\n",
    "label_encoder = LabelEncoder()\n",
    "integer_encoded = label_encoder.fit_transform(merged_df['AIRPORT_ID'])\n",
    "#__________________________________________________________\n",
    "# correspondance between the codes and tags of the airports\n",
    "zipped = zip(integer_encoded, merged_df['AIRPORT_ID'])\n",
    "label_airports = list(set(list(zipped)))\n",
    "label_airports.sort(key = lambda x:x[0])\n",
    "#Displaying the first five label encoded values\n",
    "label_airports[:5]"
   ]
  },
  {
   "cell_type": "code",
   "execution_count": 18,
   "metadata": {},
   "outputs": [
    {
     "name": "stdout",
     "output_type": "stream",
     "text": [
      "(2307, 83) (2307, 1)\n"
     ]
    },
    {
     "name": "stderr",
     "output_type": "stream",
     "text": [
      "D:\\Anaconda\\lib\\site-packages\\sklearn\\preprocessing\\_encoders.py:415: FutureWarning: The handling of integer data will change in version 0.22. Currently, the categories are determined based on the range [0, max(values)], while in the future they will be determined based on the unique values.\n",
      "If you want the future behaviour and silence this warning, you can specify \"categories='auto'\".\n",
      "In case you used a LabelEncoder before this OneHotEncoder to convert the categories to integers, then you can now use the OneHotEncoder directly.\n",
      "  warnings.warn(msg, FutureWarning)\n"
     ]
    }
   ],
   "source": [
    "#Using on hot encoder to encode the airport mappings and storing them in a MxM matrix\n",
    "onehot_encoder = OneHotEncoder(sparse=False)\n",
    "integer_encoded = integer_encoded.reshape(len(integer_encoded), 1)\n",
    "onehot_encoded = onehot_encoder.fit_transform(integer_encoded)\n",
    "b = np.array(merged_df['heure_depart_min'])\n",
    "b = b.reshape(len(b),1)\n",
    "X = np.hstack((onehot_encoded, b))\n",
    "Y = np.array(merged_df['mean'])\n",
    "Y = Y.reshape(len(Y), 1)\n",
    "print(X.shape, Y.shape)"
   ]
  },
  {
   "cell_type": "code",
   "execution_count": 19,
   "metadata": {},
   "outputs": [],
   "source": [
    "#Performing linear regression\n",
    "lm = linear_model.LinearRegression()\n",
    "model = lm.fit(X,Y)\n",
    "predictions = lm.predict(X)"
   ]
  },
  {
   "cell_type": "code",
   "execution_count": 20,
   "metadata": {},
   "outputs": [],
   "source": [
    "#Creating a dataset for all the destination airports\n",
    "def create_df(df, carrier):\n",
    "    df2 = df[df['AIRLINE'] == carrier][['SCHEDULED_DEPARTURE','SCHEDULED_ARRIVAL',\n",
    "                                    'ORIGIN_AIRPORT','DESTINATION_AIRPORT','DEPARTURE_DELAY']]\n",
    "    df2.dropna(how = 'any', inplace = True)\n",
    "    df2['weekday'] = df2['SCHEDULED_DEPARTURE'].apply(lambda x:x.weekday())\n",
    "    #____________________\n",
    "    # delete delays > 1h\n",
    "    df2['DEPARTURE_DELAY'] = df2['DEPARTURE_DELAY'].apply(lambda x:x if x < 60 else np.nan)\n",
    "    df2.dropna(how = 'any', inplace = True)\n",
    "    #_________________\n",
    "    # formating times\n",
    "    fct = lambda x:x.hour*3600+x.minute*60+x.second\n",
    "    df2['heure_depart'] = df2['SCHEDULED_DEPARTURE'].apply(lambda x:x.time())\n",
    "    df2['heure_depart'] = df2['heure_depart'].apply(fct)\n",
    "    df2['heure_arrivee'] = df2['SCHEDULED_ARRIVAL'].apply(fct)\n",
    "    df3 = df2.groupby(['heure_depart', 'heure_arrivee', 'ORIGIN_AIRPORT'],\n",
    "                      as_index = False).mean()\n",
    "    return df3"
   ]
  },
  {
   "cell_type": "code",
   "execution_count": 21,
   "metadata": {},
   "outputs": [],
   "source": [
    "#Regrouping are made on departure and arrival times\n",
    "df3 = create_df(df, carrier)   "
   ]
  },
  {
   "cell_type": "code",
   "execution_count": 22,
   "metadata": {},
   "outputs": [
    {
     "name": "stderr",
     "output_type": "stream",
     "text": [
      "D:\\Anaconda\\lib\\site-packages\\sklearn\\preprocessing\\_encoders.py:415: FutureWarning: The handling of integer data will change in version 0.22. Currently, the categories are determined based on the range [0, max(values)], while in the future they will be determined based on the unique values.\n",
      "If you want the future behaviour and silence this warning, you can specify \"categories='auto'\".\n",
      "In case you used a LabelEncoder before this OneHotEncoder to convert the categories to integers, then you can now use the OneHotEncoder directly.\n",
      "  warnings.warn(msg, FutureWarning)\n"
     ]
    }
   ],
   "source": [
    "#Using the label encoder to encode the airport names\n",
    "label_encoder = LabelEncoder()\n",
    "integer_encoded = label_encoder.fit_transform(df3['ORIGIN_AIRPORT'])\n",
    "#_________________________________________________________\n",
    "zipped = zip(integer_encoded, df3['ORIGIN_AIRPORT'])\n",
    "label_airports = list(set(list(zipped)))\n",
    "label_airports.sort(key = lambda x:x[0])\n",
    "#Using one hot encoder to map the values of flight paths in a mxm matrix\n",
    "onehot_encoder = OneHotEncoder(sparse=False)\n",
    "integer_encoded = integer_encoded.reshape(len(integer_encoded), 1)\n",
    "onehot_encoded = onehot_encoder.fit_transform(integer_encoded)\n",
    "#_________________________________________________\n",
    "b = np.array(df3[['heure_depart', 'heure_arrivee']])\n",
    "X = np.hstack((onehot_encoded, b))\n",
    "Y = np.array(df3['DEPARTURE_DELAY'])\n",
    "Y = Y.reshape(len(Y), 1)"
   ]
  },
  {
   "cell_type": "code",
   "execution_count": 23,
   "metadata": {},
   "outputs": [],
   "source": [
    "#Seperating the data into tran and test the model to select the best value for alpha\n",
    "X_train, X_test, Y_train, Y_test = train_test_split(X, Y, test_size=0.3)"
   ]
  },
  {
   "cell_type": "code",
   "execution_count": 24,
   "metadata": {},
   "outputs": [
    {
     "name": "stdout",
     "output_type": "stream",
     "text": [
      "n=1 alpha=0.0 , MSE = 55.493\n",
      "n=1 alpha=0.2 , MSE = 55.445\n",
      "n=1 alpha=0.4 , MSE = 55.662\n",
      "n=1 alpha=0.6 , MSE = 55.965\n",
      "n=1 alpha=0.8 , MSE = 56.298\n",
      "n=1 alpha=1.0 , MSE = 56.633\n",
      "n=1 alpha=1.2 , MSE = 56.958\n",
      "n=1 alpha=1.4 , MSE = 57.267\n",
      "n=1 alpha=1.6 , MSE = 57.558\n",
      "n=1 alpha=1.8 , MSE = 57.83\n"
     ]
    },
    {
     "name": "stderr",
     "output_type": "stream",
     "text": [
      "D:\\Anaconda\\lib\\site-packages\\sklearn\\linear_model\\ridge.py:189: UserWarning: Singular matrix in solving dual problem. Using least-squares solution instead.\n",
      "  warnings.warn(\"Singular matrix in solving dual problem. Using \"\n"
     ]
    },
    {
     "name": "stdout",
     "output_type": "stream",
     "text": [
      "n=2 alpha=0.0 , MSE = 65.131\n",
      "n=2 alpha=0.2 , MSE = 55.81\n",
      "n=2 alpha=0.4 , MSE = 55.821\n",
      "n=2 alpha=0.6 , MSE = 55.873\n",
      "n=2 alpha=0.8 , MSE = 55.936\n",
      "n=2 alpha=1.0 , MSE = 56.006\n",
      "n=2 alpha=1.2 , MSE = 56.082\n",
      "n=2 alpha=1.4 , MSE = 56.162\n",
      "n=2 alpha=1.6 , MSE = 56.247\n",
      "n=2 alpha=1.8 , MSE = 56.335\n"
     ]
    }
   ],
   "source": [
    "#Running Ridge regression on different values of n and alpha to find out which combination gives us the optimum result\n",
    "score_min = 10000\n",
    "for pol_order in range(1, 3):\n",
    "    for alpha in range(0, 20, 2):\n",
    "        ridgereg = Ridge(alpha = alpha/10, normalize=True)\n",
    "        poly = PolynomialFeatures(degree = pol_order)\n",
    "        regr = linear_model.LinearRegression()\n",
    "        X_ = poly.fit_transform(X_train)\n",
    "        ridgereg.fit(X_, Y_train)\n",
    "        \n",
    "        X_ = poly.fit_transform(X_test)\n",
    "        result = ridgereg.predict(X_)\n",
    "        score = metrics.mean_squared_error(result, Y_test)\n",
    "        \n",
    "        if score < score_min:\n",
    "            score_min = score\n",
    "            parameters = [alpha, pol_order]\n",
    "\n",
    "        print(\"n={} alpha={} , MSE = {:<0.5}\".format(pol_order, alpha/10, score))"
   ]
  },
  {
   "cell_type": "code",
   "execution_count": 25,
   "metadata": {},
   "outputs": [
    {
     "name": "stdout",
     "output_type": "stream",
     "text": [
      "58.70206997246475\n"
     ]
    }
   ],
   "source": [
    "#Fitting the ridge regressionn fo rthe optimal values of n and alpha\n",
    "ridgereg = Ridge(alpha = parameters[0], normalize=True)\n",
    "poly = PolynomialFeatures(degree = parameters[1])\n",
    "X_ = poly.fit_transform(X)\n",
    "ridgereg.fit(X_, Y)\n",
    "result = ridgereg.predict(X_)\n",
    "score = metrics.mean_squared_error(result, Y)        \n",
    "print(score)"
   ]
  },
  {
   "cell_type": "code",
   "execution_count": 26,
   "metadata": {},
   "outputs": [],
   "source": [
    "#Testing the model on january delays\n",
    "df3 = create_df(df_test, carrier)"
   ]
  },
  {
   "cell_type": "code",
   "execution_count": 27,
   "metadata": {},
   "outputs": [
    {
     "name": "stdout",
     "output_type": "stream",
     "text": [
      "MSE = 57.1\n"
     ]
    }
   ],
   "source": [
    "#Fitting the model on the testing part of the dataset \n",
    "X_ = poly.fit_transform(X_test)\n",
    "result = ridgereg.predict(X_)\n",
    "score = metrics.mean_squared_error(result, Y_test)\n",
    "print('MSE = {}'.format(round(score, 2)))"
   ]
  },
  {
   "cell_type": "code",
   "execution_count": 28,
   "metadata": {},
   "outputs": [
    {
     "data": {
      "text/plain": [
       "'Ecart = 7.56 min'"
      ]
     },
     "execution_count": 28,
     "metadata": {},
     "output_type": "execute_result"
    }
   ],
   "source": [
    "'Ecart = {:.2f} min'.format(np.sqrt(score))"
   ]
  },
  {
   "cell_type": "code",
   "execution_count": 29,
   "metadata": {},
   "outputs": [],
   "source": [
    "tips = pd.DataFrame()\n",
    "tips[\"prediction\"] = pd.Series([float(s) for s in predictions]) \n",
    "tips[\"original_data\"] = pd.Series([float(s) for s in Y_test]) "
   ]
  },
  {
   "cell_type": "code",
   "execution_count": 30,
   "metadata": {},
   "outputs": [
    {
     "name": "stderr",
     "output_type": "stream",
     "text": [
      "D:\\Anaconda\\lib\\site-packages\\seaborn\\axisgrid.py:2262: UserWarning: The `size` paramter has been renamed to `height`; please update your code.\n",
      "  warnings.warn(msg, UserWarning)\n"
     ]
    },
    {
     "data": {
      "text/plain": [
       "[<matplotlib.lines.Line2D at 0x2617f165888>]"
      ]
     },
     "execution_count": 30,
     "metadata": {},
     "output_type": "execute_result"
    },
    {
     "data": {
      "image/png": "[encoded data removed]",
      "text/plain": [
       "<Figure size 432x432 with 3 Axes>"
      ]
     },
     "metadata": {
      "needs_background": "light"
     },
     "output_type": "display_data"
    }
   ],
   "source": [
    "#Plotting a joint plot between the Mean delays and the Predictions\n",
    "sns.jointplot(x=\"original_data\", y=\"prediction\", data=tips, size = 6, ratio = 7,\n",
    "              joint_kws={'line_kws':{'color':'limegreen'}}, kind='reg')\n",
    "plt.xlabel('Mean delays (min)', fontsize = 15)\n",
    "plt.ylabel('Predictions (min)', fontsize = 15)\n",
    "plt.plot(list(range(-10,25)), list(range(-10,25)), linestyle = ':', color = 'r')"
   ]
  },
  {
   "cell_type": "code",
   "execution_count": 31,
   "metadata": {},
   "outputs": [
    {
     "name": "stderr",
     "output_type": "stream",
     "text": [
      "D:\\Anaconda\\lib\\site-packages\\ipykernel_launcher.py:9: UserWarning: With alpha=0, this algorithm does not converge well. You are advised to use the LinearRegression estimator\n",
      "  if __name__ == '__main__':\n",
      "D:\\Anaconda\\lib\\site-packages\\sklearn\\linear_model\\coordinate_descent.py:475: UserWarning: Coordinate descent with no regularization may lead to unexpected results and is discouraged.\n",
      "  positive)\n",
      "D:\\Anaconda\\lib\\site-packages\\sklearn\\linear_model\\coordinate_descent.py:475: ConvergenceWarning: Objective did not converge. You might want to increase the number of iterations. Duality gap: 74760.13220619493, tolerance: 17.5287576640971\n",
      "  positive)\n"
     ]
    },
    {
     "name": "stdout",
     "output_type": "stream",
     "text": [
      "n=1 alpha=0.0 , MSE = 55.45\n",
      "n=1 alpha=0.2 , MSE = 64.154\n",
      "n=1 alpha=0.4 , MSE = 64.154\n",
      "n=1 alpha=0.6 , MSE = 64.154\n",
      "n=1 alpha=0.8 , MSE = 64.154\n",
      "n=1 alpha=1.0 , MSE = 64.154\n",
      "n=1 alpha=1.2 , MSE = 64.154\n",
      "n=1 alpha=1.4 , MSE = 64.154\n",
      "n=1 alpha=1.6 , MSE = 64.154\n",
      "n=1 alpha=1.8 , MSE = 64.154\n"
     ]
    },
    {
     "name": "stderr",
     "output_type": "stream",
     "text": [
      "D:\\Anaconda\\lib\\site-packages\\ipykernel_launcher.py:9: UserWarning: With alpha=0, this algorithm does not converge well. You are advised to use the LinearRegression estimator\n",
      "  if __name__ == '__main__':\n",
      "D:\\Anaconda\\lib\\site-packages\\sklearn\\linear_model\\coordinate_descent.py:475: UserWarning: Coordinate descent with no regularization may lead to unexpected results and is discouraged.\n",
      "  positive)\n",
      "D:\\Anaconda\\lib\\site-packages\\sklearn\\linear_model\\coordinate_descent.py:475: ConvergenceWarning: Objective did not converge. You might want to increase the number of iterations. Duality gap: 69857.26287711058, tolerance: 17.5287576640971\n",
      "  positive)\n"
     ]
    },
    {
     "name": "stdout",
     "output_type": "stream",
     "text": [
      "n=2 alpha=0.0 , MSE = 57.821\n",
      "n=2 alpha=0.2 , MSE = 64.154\n",
      "n=2 alpha=0.4 , MSE = 64.154\n",
      "n=2 alpha=0.6 , MSE = 64.154\n",
      "n=2 alpha=0.8 , MSE = 64.154\n",
      "n=2 alpha=1.0 , MSE = 64.154\n",
      "n=2 alpha=1.2 , MSE = 64.154\n",
      "n=2 alpha=1.4 , MSE = 64.154\n",
      "n=2 alpha=1.6 , MSE = 64.154\n",
      "n=2 alpha=1.8 , MSE = 64.154\n"
     ]
    }
   ],
   "source": [
    "#Running Lasso regression for different values of n and alpha to find the optimal values\n",
    "score_min = 10000\n",
    "for pol_order in range(1, 3):\n",
    "    for alpha in range(0, 20, 2):\n",
    "        lassoreg = Lasso(alpha = alpha/10, normalize=True)\n",
    "        poly = PolynomialFeatures(degree = pol_order)\n",
    "        regr = linear_model.LinearRegression()\n",
    "        X_ = poly.fit_transform(X_train)\n",
    "        lassoreg.fit(X_, Y_train)\n",
    "        \n",
    "        X_ = poly.fit_transform(X_test)\n",
    "        result = lassoreg.predict(X_)\n",
    "        score = metrics.mean_squared_error(result, Y_test)\n",
    "        \n",
    "        if score < score_min:\n",
    "            score_min = score\n",
    "            parameters = [alpha, pol_order]\n",
    "\n",
    "        print(\"n={} alpha={} , MSE = {:<0.5}\".format(pol_order, alpha/10, score))"
   ]
  },
  {
   "cell_type": "code",
   "execution_count": 32,
   "metadata": {},
   "outputs": [
    {
     "name": "stderr",
     "output_type": "stream",
     "text": [
      "D:\\Anaconda\\lib\\site-packages\\ipykernel_launcher.py:5: UserWarning: With alpha=0, this algorithm does not converge well. You are advised to use the LinearRegression estimator\n",
      "  \"\"\"\n",
      "D:\\Anaconda\\lib\\site-packages\\sklearn\\linear_model\\coordinate_descent.py:475: UserWarning: Coordinate descent with no regularization may lead to unexpected results and is discouraged.\n",
      "  positive)\n"
     ]
    },
    {
     "name": "stdout",
     "output_type": "stream",
     "text": [
      "55.36005815675912\n"
     ]
    },
    {
     "name": "stderr",
     "output_type": "stream",
     "text": [
      "D:\\Anaconda\\lib\\site-packages\\sklearn\\linear_model\\coordinate_descent.py:475: ConvergenceWarning: Objective did not converge. You might want to increase the number of iterations. Duality gap: 105626.99096309641, tolerance: 24.874230327290007\n",
      "  positive)\n"
     ]
    }
   ],
   "source": [
    "#Fitting the model for the optimal values of n and alpha\n",
    "lassoreg = Lasso(alpha = parameters[0], normalize=True)\n",
    "poly = PolynomialFeatures(degree = parameters[1])\n",
    "X_ = poly.fit_transform(X)\n",
    "lassoreg.fit(X_, Y)\n",
    "result = lassoreg.predict(X_)\n",
    "score = metrics.mean_squared_error(result, Y)        \n",
    "print(score)"
   ]
  },
  {
   "cell_type": "code",
   "execution_count": 33,
   "metadata": {},
   "outputs": [
    {
     "name": "stdout",
     "output_type": "stream",
     "text": [
      "MSE = 52.85\n"
     ]
    }
   ],
   "source": [
    "X_ = poly.fit_transform(X_test)\n",
    "result = lassoreg.predict(X_)\n",
    "score = metrics.mean_squared_error(result, Y_test)\n",
    "print('MSE = {}'.format(round(score, 2)))"
   ]
  },
  {
   "cell_type": "code",
   "execution_count": 34,
   "metadata": {},
   "outputs": [
    {
     "data": {
      "text/plain": [
       "'Ecart = 7.27 min'"
      ]
     },
     "execution_count": 34,
     "metadata": {},
     "output_type": "execute_result"
    }
   ],
   "source": [
    "'Ecart = {:.2f} min'.format(np.sqrt(score))"
   ]
  },
  {
   "cell_type": "code",
   "execution_count": 35,
   "metadata": {},
   "outputs": [],
   "source": [
    "tips = pd.DataFrame()\n",
    "tips[\"prediction\"] = pd.Series([float(s) for s in predictions]) \n",
    "tips[\"original_data\"] = pd.Series([float(s) for s in Y_test]) "
   ]
  },
  {
   "cell_type": "code",
   "execution_count": 36,
   "metadata": {},
   "outputs": [
    {
     "name": "stderr",
     "output_type": "stream",
     "text": [
      "D:\\Anaconda\\lib\\site-packages\\seaborn\\axisgrid.py:2262: UserWarning: The `size` paramter has been renamed to `height`; please update your code.\n",
      "  warnings.warn(msg, UserWarning)\n"
     ]
    },
    {
     "data": {
      "text/plain": [
       "[<matplotlib.lines.Line2D at 0x2617fe85b48>]"
      ]
     },
     "execution_count": 36,
     "metadata": {},
     "output_type": "execute_result"
    },
    {
     "data": {
      "image/png": "[encoded data removed]",
      "text/plain": [
       "<Figure size 432x432 with 3 Axes>"
      ]
     },
     "metadata": {
      "needs_background": "light"
     },
     "output_type": "display_data"
    }
   ],
   "source": [
    "sns.jointplot(x=\"original_data\", y=\"prediction\", data=tips, size = 6, ratio = 7,\n",
    "              joint_kws={'line_kws':{'color':'limegreen'}}, kind='reg')\n",
    "plt.xlabel('Mean delays (min)', fontsize = 15)\n",
    "plt.ylabel('Predictions (min)', fontsize = 15)\n",
    "plt.plot(list(range(-10,25)), list(range(-10,25)), linestyle = ':', color = 'r')"
   ]
  },
  {
   "cell_type": "code",
   "execution_count": null,
   "metadata": {},
   "outputs": [],
   "source": []
  },
  {
   "cell_type": "code",
   "execution_count": null,
   "metadata": {},
   "outputs": [],
   "source": []
  }
 ],
 "metadata": {
  "kernelspec": {
   "display_name": "Python 3",
   "language": "python",
   "name": "python3"
  },
  "language_info": {
   "codemirror_mode": {
    "name": "ipython",
    "version": 3
   },
   "file_extension": ".py",
   "mimetype": "text/x-python",
   "name": "python",
   "nbconvert_exporter": "python",
   "pygments_lexer": "ipython3",
   "version": "3.7.4"
  }
 },
 "nbformat": 4,
 "nbformat_minor": 2
}
